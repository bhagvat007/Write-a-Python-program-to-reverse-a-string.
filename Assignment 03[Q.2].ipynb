{
 "cells": [
  {
   "cell_type": "code",
   "execution_count": 1,
   "id": "df974e9c",
   "metadata": {},
   "outputs": [
    {
     "name": "stdout",
     "output_type": "stream",
     "text": [
      "dcba4321\n"
     ]
    }
   ],
   "source": [
    "def reverse(s):\n",
    "    stri =\"\"\n",
    "    for c in s:\n",
    "        stri = c + stri\n",
    "    return stri \n",
    "s= \"1234abcd\"\n",
    "print(reverse(s))"
   ]
  },
  {
   "cell_type": "code",
   "execution_count": null,
   "id": "a1af472e",
   "metadata": {},
   "outputs": [],
   "source": []
  }
 ],
 "metadata": {
  "kernelspec": {
   "display_name": "Python 3 (ipykernel)",
   "language": "python",
   "name": "python3"
  },
  "language_info": {
   "codemirror_mode": {
    "name": "ipython",
    "version": 3
   },
   "file_extension": ".py",
   "mimetype": "text/x-python",
   "name": "python",
   "nbconvert_exporter": "python",
   "pygments_lexer": "ipython3",
   "version": "3.9.7"
  }
 },
 "nbformat": 4,
 "nbformat_minor": 5
}
